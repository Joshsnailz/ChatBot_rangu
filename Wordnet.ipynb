{
 "cells": [
  {
   "cell_type": "code",
   "execution_count": 1,
   "metadata": {},
   "outputs": [],
   "source": [
    "from __future__ import unicode_literals"
   ]
  },
  {
   "cell_type": "code",
   "execution_count": 2,
   "metadata": {},
   "outputs": [],
   "source": [
    "from nltk.corpus.reader.wordnet import NOUN\n",
    "from nltk.corpus import wordnet\n",
    "from nltk.compat import python_2_unicode_compatible"
   ]
  },
  {
   "cell_type": "code",
   "execution_count": 4,
   "metadata": {},
   "outputs": [],
   "source": [
    "@python_2_unicode_compatible\n",
    "class WordNetLemmatizer(object):\n",
    "    def __init__(self):\n",
    "        pass\n",
    "    def lemmatize(self,word,pos=NOUN):\n",
    "        lemmas=wordnet._morphy(word,pos)\n",
    "        return min(lemmas,key=len) if lemmas else word\n",
    "    def __repr__(self):\n",
    "        return '<WordNetLemmatizer>'\n",
    "def teardown_module(module=None):\n",
    "    from nltk.corpus import wordnet\n",
    "    \n",
    "    wordnet._unload()"
   ]
  },
  {
   "cell_type": "code",
   "execution_count": null,
   "metadata": {},
   "outputs": [],
   "source": []
  }
 ],
 "metadata": {
  "kernelspec": {
   "display_name": "Python 3",
   "language": "python",
   "name": "python3"
  },
  "language_info": {
   "codemirror_mode": {
    "name": "ipython",
    "version": 3
   },
   "file_extension": ".py",
   "mimetype": "text/x-python",
   "name": "python",
   "nbconvert_exporter": "python",
   "pygments_lexer": "ipython3",
   "version": "3.6.4"
  }
 },
 "nbformat": 4,
 "nbformat_minor": 2
}
